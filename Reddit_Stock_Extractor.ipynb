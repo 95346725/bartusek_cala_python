{
 "cells": [
  {
   "cell_type": "code",
   "execution_count": 1,
   "metadata": {},
   "outputs": [],
   "source": [
    "#reddit account\n",
    "#username:IES_Python\n",
    "#email:95346725@fsv.cuni.cz"
   ]
  },
  {
   "cell_type": "code",
   "execution_count": 27,
   "metadata": {},
   "outputs": [],
   "source": [
    "#pip install praw\n",
    "import praw\n",
    "import pandas as pd\n",
    "main_df = pd.DataFrame()\n",
    "credentials = {\n",
    "    \"client_id\": \"Mz-eGRSHPkpkaQ\",\n",
    "    \"client_secret\": \"hNHgiDETfcYvbUweNZrSV-dAHt_mbw\",\n",
    "    \"user_agent\": \"IES_python_stocks\",\n",
    "    \"username\": \"IES_Python\",\n",
    "    \"password\": \"IES_python\"\n",
    "}"
   ]
  },
  {
   "cell_type": "code",
   "execution_count": 63,
   "metadata": {},
   "outputs": [],
   "source": [
    "\n",
    "\n",
    "class Post_Extractor:\n",
    "    def __init__(self,credentials):\n",
    "        self.reddit = self.redditApi()\n",
    "        \n",
    "    def redditApi(self):\n",
    "        reddit = praw.Reddit(\n",
    "            client_id = credentials['client_id'],\n",
    "            client_secret = credentials['client_secret'],\n",
    "            user_agent = credentials['user_agent'],\n",
    "            username = credentials['username'],\n",
    "            password = credentials['password'])\n",
    "        return reddit\n",
    "    \n",
    "    def subredditData(self,subreddit,limit = 'none'):\n",
    "        posts = self.reddit.subreddit(subreddit).hot(limit=limit)\n",
    "        return posts\n",
    "        #tbd: append every stock mentions from title, post content and comment as separate rows to main df, \n",
    "        #with date, tag representing comment/title/content \n",
    "    def showcasePrint(self,postList):\n",
    "        for post in postList:\n",
    "            print(post.title)\n",
    "        \n",
    "        \n",
    "        \n",
    "\n",
    "\n",
    "class TickerExtractor:\n",
    "    def findNewTicker(self, post): #method to expand possible dictionaries of stock tickers\n",
    "        pass\n",
    "    \n",
    "    def tickerCounter(self, tickerDF): #append number of mentions to dataframe\n",
    "        #various aggregations of main df\n",
    "        pass\n",
    "\n"
   ]
  },
  {
   "cell_type": "code",
   "execution_count": 64,
   "metadata": {
    "scrolled": true
   },
   "outputs": [
    {
     "name": "stdout",
     "output_type": "stream",
     "text": [
      "BWF Daily Discussion and Beginner/RR Questions Thread for 2021-03-12\n",
      "I finally did my first pull-up (and 5 more)!\n",
      "1st ring muscle up!\n",
      "About to attend my first gym session tomorrow morning. Signed up today, any tips/advice?\n",
      "I finally achieved a long term goal but I do not feel the way I expected to feel.\n",
      "Regular pull up vs neutral grip pull-up\n",
      "Pullups using tempo instead of max concentric reps\n",
      "Chin-ups outside of chest day?\n",
      "Are situps the problem?\n",
      "This is a post for the injured and those who lost motivation or progress because of an injury.\n"
     ]
    }
   ],
   "source": [
    "#tryout\n",
    "post_extr = Post_Extractor(credentials)\n",
    "posts_test = post_extr.subredditData(subreddit = 'bodyweightfitness',limit = 10)\n",
    "post_extr.showcasePrint(posts_test)"
   ]
  }
 ],
 "metadata": {
  "kernelspec": {
   "display_name": "Python 3",
   "language": "python",
   "name": "python3"
  },
  "language_info": {
   "codemirror_mode": {
    "name": "ipython",
    "version": 3
   },
   "file_extension": ".py",
   "mimetype": "text/x-python",
   "name": "python",
   "nbconvert_exporter": "python",
   "pygments_lexer": "ipython3",
   "version": "3.8.5"
  }
 },
 "nbformat": 4,
 "nbformat_minor": 4
}
