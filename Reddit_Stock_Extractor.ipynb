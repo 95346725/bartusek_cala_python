{
 "cells": [
  {
   "cell_type": "code",
   "execution_count": 4,
   "metadata": {},
   "outputs": [],
   "source": [
    "#reddit account\n",
    "#username:IES_Python\n",
    "#email:95346725@fsv.cuni.cz"
   ]
  },
  {
   "cell_type": "code",
   "execution_count": 5,
   "metadata": {},
   "outputs": [],
   "source": [
    "#pip install praw\n",
    "import praw\n",
    "import re\n",
    "import time\n",
    "import json\n",
    "from praw.models import MoreComments\n",
    "import pandas as pd\n",
    "from datetime import date\n",
    "credentials = {\n",
    "    \"client_id\": \"Mz-eGRSHPkpkaQ\",\n",
    "    \"client_secret\": \"hNHgiDETfcYvbUweNZrSV-dAHt_mbw\",\n",
    "    \"user_agent\": \"IES_python_stocks\",\n",
    "    \"username\": \"IES_Python\",\n",
    "    \"password\": \"IES_python\"\n",
    "}"
   ]
  },
  {
   "cell_type": "code",
   "execution_count": 6,
   "metadata": {},
   "outputs": [],
   "source": [
    "\n",
    "\n",
    "class Reddit_Extractor:\n",
    "    def __init__(self,credentials):\n",
    "        self.reddit = self.redditApi()\n",
    "        \n",
    "    def redditApi(self):\n",
    "        reddit = praw.Reddit(\n",
    "            client_id = credentials['client_id'],\n",
    "            client_secret = credentials['client_secret'],\n",
    "            user_agent = credentials['user_agent'],\n",
    "            username = credentials['username'],\n",
    "            password = credentials['password'])\n",
    "        return reddit\n",
    "    \n",
    "    def subredditData(self,subreddit,limit = 10):\n",
    "        postList = self.reddit.subreddit(subreddit).hot(limit=limit)\n",
    "        return postList     \n",
    "        \n",
    "    def showcasePrint(self,postList):\n",
    "        for post in postList:\n",
    "            print(post.title)\n",
    "            print(post.distinguished)\n",
    "            print(post.link_flair_text)\n",
    "            '''for top_level_comment in submission.comments:\n",
    "                print(i)\n",
    "                print(top_level_comment.link_id)   \n",
    "                print(top_level_comment.body)      \n",
    "                print(top_level_comment.created_utc)\n",
    "                i+=1'''    \n",
    "            \n",
    "    def subredditDF(self,postList):\n",
    "        df = pd.DataFrame({'post_id': pd.Series([], dtype='str'),\n",
    "                        'comment_id': pd.Series([], dtype='str'),\n",
    "                        'subreddit': pd.Series([], dtype='str'),\n",
    "                        'text_type': pd.Series([], dtype='str'),\n",
    "                        'epoch_time': pd.Series([], dtype='int'),\n",
    "                        'text': pd.Series([], dtype='str'),\n",
    "                        'tickers': pd.Series([], dtype='str')})  \n",
    "        for post in postList:\n",
    "            #post extraction\n",
    "            post_row = pd.DataFrame({'post_id': pd.Series([post.id], dtype='str'),\n",
    "                                    'comment_id': pd.Series([], dtype='str'),\n",
    "                                    'subreddit': pd.Series([post.subreddit.display_name], dtype='str'),\n",
    "                                    'text_type': pd.Series(['post'], dtype='str'),\n",
    "                                    'epoch_time': pd.Series([post.created_utc], dtype='int'),\n",
    "                                    'text': pd.Series([post.title+post.selftext], dtype='str'),\n",
    "                                   'tickers': pd.Series([], dtype='str')})   \n",
    "            df = df.append(post_row) \n",
    "            #comments extraction\n",
    "            submission = self.reddit.submission(id=post.id)\n",
    "            submission.comment_sort = 'best'\n",
    "            submission.comment_limit = 5\n",
    "            for top_level_comment in submission.comments:\n",
    "                if isinstance(top_level_comment, praw.models.MoreComments):\n",
    "                    continue                    \n",
    "                new_row = pd.DataFrame({'post_id': pd.Series([post.id], dtype='str'),\n",
    "                                        'comment_id': pd.Series([top_level_comment.id], dtype='str'),\n",
    "                                        'subreddit': pd.Series([top_level_comment.subreddit.display_name], dtype='str'),\n",
    "                                        'text_type': pd.Series(['comment'], dtype='str'),\n",
    "                                        'epoch_time': pd.Series([top_level_comment.created_utc], dtype='int'),\n",
    "                                        'text': pd.Series([top_level_comment.body], dtype='str'),\n",
    "                                       'tickers': pd.Series([], dtype='str')})  \n",
    "                df = df.append(new_row)  \n",
    "                                         \n",
    "        return df\n",
    "    def joinData(self,subreddits,limit):\n",
    "        main_df = pd.DataFrame({'post_id': pd.Series([], dtype='str'),\n",
    "                'comment_id': pd.Series([], dtype='str'),\n",
    "                'subreddit': pd.Series([], dtype='str'),\n",
    "                'text_type': pd.Series([], dtype='str'),\n",
    "                'epoch_time': pd.Series([], dtype='int'),\n",
    "                'text': pd.Series([], dtype='str'),\n",
    "                'tickers': pd.Series([], dtype='str')})\n",
    "        for subreddit in subreddits:\n",
    "            posts_test = self.subredditData(subreddit = subreddit,limit = limit)\n",
    "            start = time.time()\n",
    "            df = self.subredditDF(posts_test)\n",
    "            end = time.time()\n",
    "            print(\"Elapsed time for subreddit\",subreddit)\n",
    "            print(end-start)\n",
    "            main_df = main_df.append(df)\n",
    "        return main_df"
   ]
  },
  {
   "cell_type": "code",
   "execution_count": 7,
   "metadata": {},
   "outputs": [],
   "source": [
    "class TickerExtractor:\n",
    "    def __init__(self):\n",
    "        self.stockDict = self.openDict()\n",
    "    def openDict(self):\n",
    "        with open('stockDict.json') as json_file: \n",
    "            stockDict = json.load(json_file) #\n",
    "        return stockDict\n",
    "    def findNewTicker(self, postText,tickerDict): #method to expand possible dictionaries of stock tickers\n",
    "        pass\n",
    "    \n",
    "    def tickerCounter(self, postText): #append number of mentions to dataframe\n",
    "        #pattern  = r\"(?:\\$)?[A-Z][A-Z\\d]+\"\n",
    "        mentionedTickers = []\n",
    "        for key in self.stockDict:\n",
    "            if re.search(self.stockDict[key],postText,re.IGNORECASE) is not None:\n",
    "                mentionedTickers.append(key)\n",
    "        mentionedTickers = list(set(mentionedTickers)) #unique values\n",
    "        if len(mentionedTickers)>0:\n",
    "            return mentionedTickers\n",
    "        else:\n",
    "            return None"
   ]
  },
  {
   "cell_type": "code",
   "execution_count": 8,
   "metadata": {
    "scrolled": true
   },
   "outputs": [
    {
     "name": "stdout",
     "output_type": "stream",
     "text": [
      "Elapsed time for subreddit stocks\n",
      "31.445240259170532\n",
      "Elapsed time for subreddit investing\n",
      "26.87572741508484\n",
      "Elapsed time for subreddit StockMarket\n",
      "31.168322563171387\n",
      "Elapsed time for subreddit wallstreetbets\n",
      "70.7498471736908\n"
     ]
    }
   ],
   "source": [
    "#load posts\n",
    "subreddits = [\"stocks\",\"investing\",\"StockMarket\",\"wallstreetbets\"]\n",
    "extr = Reddit_Extractor(credentials)\n",
    "main_df = extr.joinData(subreddits = subreddits,limit = 100)"
   ]
  },
  {
   "cell_type": "code",
   "execution_count": 9,
   "metadata": {},
   "outputs": [],
   "source": [
    "tickerExtr = TickerExtractor()\n",
    "main_df['tickers'] = main_df['text'].apply(tickerExtr.tickerCounter)"
   ]
  },
  {
   "cell_type": "code",
   "execution_count": 10,
   "metadata": {},
   "outputs": [
    {
     "data": {
      "text/plain": [
       "wallstreetbets    449\n",
       "stocks            439\n",
       "investing         355\n",
       "StockMarket       319\n",
       "Name: subreddit, dtype: int64"
      ]
     },
     "execution_count": 10,
     "metadata": {},
     "output_type": "execute_result"
    }
   ],
   "source": [
    "#observe dataframe\n",
    "#main_df.shape\n",
    "main_df.tickers[main_df.tickers.notna()].tolist()\n",
    "main_df['subreddit'].value_counts()\n",
    "#main_df.columns\n",
    "#main_df.loc[main_df['text_type'] == 'comment']\n",
    "#main_df.head()\n",
    "#main_df.loc[0]['text']"
   ]
  },
  {
   "cell_type": "code",
   "execution_count": 11,
   "metadata": {},
   "outputs": [],
   "source": [
    "#store object\n",
    "today = date.today()\n",
    "stringEpoch = today.strftime(\"%d_%m_%y\")\n",
    "#stringEpoch = stringEpoch + \"_test\"\n",
    "s = ''\n",
    "nameVars = [\"D:\\\\School\\\\bartusek_cala_python\\\\daily_reddit_data\\\\\",stringEpoch,\".csv\"]\n",
    "main_df.to_csv(path_or_buf=s.join(nameVars),index=False,encoding='utf-8-sig')"
   ]
  },
  {
   "cell_type": "code",
   "execution_count": null,
   "metadata": {},
   "outputs": [],
   "source": []
  },
  {
   "cell_type": "code",
   "execution_count": null,
   "metadata": {},
   "outputs": [],
   "source": []
  }
 ],
 "metadata": {
  "kernelspec": {
   "display_name": "Python 3",
   "language": "python",
   "name": "python3"
  },
  "language_info": {
   "codemirror_mode": {
    "name": "ipython",
    "version": 3
   },
   "file_extension": ".py",
   "mimetype": "text/x-python",
   "name": "python",
   "nbconvert_exporter": "python",
   "pygments_lexer": "ipython3",
   "version": "3.8.5"
  }
 },
 "nbformat": 4,
 "nbformat_minor": 4
}
