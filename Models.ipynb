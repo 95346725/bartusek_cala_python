{
 "cells": [
  {
   "cell_type": "code",
   "execution_count": 1,
   "metadata": {},
   "outputs": [],
   "source": [
    "import pandas as pd\n",
    "import matplotlib.pyplot as plt\n",
    "import numpy as np"
   ]
  },
  {
   "cell_type": "code",
   "execution_count": 37,
   "metadata": {
    "scrolled": false
   },
   "outputs": [
    {
     "data": {
      "text/html": [
       "<div>\n",
       "<style scoped>\n",
       "    .dataframe tbody tr th:only-of-type {\n",
       "        vertical-align: middle;\n",
       "    }\n",
       "\n",
       "    .dataframe tbody tr th {\n",
       "        vertical-align: top;\n",
       "    }\n",
       "\n",
       "    .dataframe thead th {\n",
       "        text-align: right;\n",
       "    }\n",
       "</style>\n",
       "<table border=\"1\" class=\"dataframe\">\n",
       "  <thead>\n",
       "    <tr style=\"text-align: right;\">\n",
       "      <th></th>\n",
       "      <th>AMD</th>\n",
       "      <th>GOOGL</th>\n",
       "      <th>MSFT</th>\n",
       "      <th>PSA</th>\n",
       "      <th>BLL</th>\n",
       "      <th>TSLA</th>\n",
       "      <th>AMZN</th>\n",
       "      <th>AAPL</th>\n",
       "      <th>NDAQ</th>\n",
       "      <th>DOW</th>\n",
       "      <th>...</th>\n",
       "      <th>IFF</th>\n",
       "      <th>WEC</th>\n",
       "      <th>XYL</th>\n",
       "      <th>SLG</th>\n",
       "      <th>NWL</th>\n",
       "      <th>RMD</th>\n",
       "      <th>VTR</th>\n",
       "      <th>ROST</th>\n",
       "      <th>NRG</th>\n",
       "      <th>LNC</th>\n",
       "    </tr>\n",
       "  </thead>\n",
       "  <tbody>\n",
       "    <tr>\n",
       "      <th>2021-03-17</th>\n",
       "      <td>0.0</td>\n",
       "      <td>1.0</td>\n",
       "      <td>1.0</td>\n",
       "      <td>9.0</td>\n",
       "      <td>8.0</td>\n",
       "      <td>3.0</td>\n",
       "      <td>6.0</td>\n",
       "      <td>3.0</td>\n",
       "      <td>5.0</td>\n",
       "      <td>5.0</td>\n",
       "      <td>...</td>\n",
       "      <td>9.0</td>\n",
       "      <td>6.0</td>\n",
       "      <td>5.0</td>\n",
       "      <td>2.0</td>\n",
       "      <td>5.0</td>\n",
       "      <td>3.0</td>\n",
       "      <td>9.0</td>\n",
       "      <td>0.0</td>\n",
       "      <td>3.0</td>\n",
       "      <td>4.0</td>\n",
       "    </tr>\n",
       "    <tr>\n",
       "      <th>2021-03-18</th>\n",
       "      <td>9.0</td>\n",
       "      <td>2.0</td>\n",
       "      <td>5.0</td>\n",
       "      <td>6.0</td>\n",
       "      <td>4.0</td>\n",
       "      <td>8.0</td>\n",
       "      <td>7.0</td>\n",
       "      <td>5.0</td>\n",
       "      <td>8.0</td>\n",
       "      <td>8.0</td>\n",
       "      <td>...</td>\n",
       "      <td>9.0</td>\n",
       "      <td>4.0</td>\n",
       "      <td>4.0</td>\n",
       "      <td>9.0</td>\n",
       "      <td>0.0</td>\n",
       "      <td>5.0</td>\n",
       "      <td>7.0</td>\n",
       "      <td>9.0</td>\n",
       "      <td>0.0</td>\n",
       "      <td>4.0</td>\n",
       "    </tr>\n",
       "    <tr>\n",
       "      <th>2021-03-19</th>\n",
       "      <td>6.0</td>\n",
       "      <td>1.0</td>\n",
       "      <td>0.0</td>\n",
       "      <td>4.0</td>\n",
       "      <td>4.0</td>\n",
       "      <td>7.0</td>\n",
       "      <td>8.0</td>\n",
       "      <td>1.0</td>\n",
       "      <td>2.0</td>\n",
       "      <td>1.0</td>\n",
       "      <td>...</td>\n",
       "      <td>2.0</td>\n",
       "      <td>2.0</td>\n",
       "      <td>8.0</td>\n",
       "      <td>9.0</td>\n",
       "      <td>2.0</td>\n",
       "      <td>5.0</td>\n",
       "      <td>9.0</td>\n",
       "      <td>1.0</td>\n",
       "      <td>5.0</td>\n",
       "      <td>3.0</td>\n",
       "    </tr>\n",
       "    <tr>\n",
       "      <th>2021-03-20</th>\n",
       "      <td>3.0</td>\n",
       "      <td>2.0</td>\n",
       "      <td>3.0</td>\n",
       "      <td>4.0</td>\n",
       "      <td>8.0</td>\n",
       "      <td>3.0</td>\n",
       "      <td>6.0</td>\n",
       "      <td>3.0</td>\n",
       "      <td>3.0</td>\n",
       "      <td>6.0</td>\n",
       "      <td>...</td>\n",
       "      <td>9.0</td>\n",
       "      <td>1.0</td>\n",
       "      <td>2.0</td>\n",
       "      <td>6.0</td>\n",
       "      <td>3.0</td>\n",
       "      <td>2.0</td>\n",
       "      <td>0.0</td>\n",
       "      <td>4.0</td>\n",
       "      <td>0.0</td>\n",
       "      <td>5.0</td>\n",
       "    </tr>\n",
       "    <tr>\n",
       "      <th>2021-03-21</th>\n",
       "      <td>9.0</td>\n",
       "      <td>5.0</td>\n",
       "      <td>8.0</td>\n",
       "      <td>9.0</td>\n",
       "      <td>9.0</td>\n",
       "      <td>4.0</td>\n",
       "      <td>5.0</td>\n",
       "      <td>2.0</td>\n",
       "      <td>9.0</td>\n",
       "      <td>0.0</td>\n",
       "      <td>...</td>\n",
       "      <td>4.0</td>\n",
       "      <td>4.0</td>\n",
       "      <td>9.0</td>\n",
       "      <td>5.0</td>\n",
       "      <td>8.0</td>\n",
       "      <td>0.0</td>\n",
       "      <td>0.0</td>\n",
       "      <td>9.0</td>\n",
       "      <td>9.0</td>\n",
       "      <td>9.0</td>\n",
       "    </tr>\n",
       "  </tbody>\n",
       "</table>\n",
       "<p>5 rows × 410 columns</p>\n",
       "</div>"
      ],
      "text/plain": [
       "            AMD  GOOGL  MSFT  PSA  BLL  TSLA  AMZN  AAPL  NDAQ  DOW  ...  IFF  \\\n",
       "2021-03-17  0.0    1.0   1.0  9.0  8.0   3.0   6.0   3.0   5.0  5.0  ...  9.0   \n",
       "2021-03-18  9.0    2.0   5.0  6.0  4.0   8.0   7.0   5.0   8.0  8.0  ...  9.0   \n",
       "2021-03-19  6.0    1.0   0.0  4.0  4.0   7.0   8.0   1.0   2.0  1.0  ...  2.0   \n",
       "2021-03-20  3.0    2.0   3.0  4.0  8.0   3.0   6.0   3.0   3.0  6.0  ...  9.0   \n",
       "2021-03-21  9.0    5.0   8.0  9.0  9.0   4.0   5.0   2.0   9.0  0.0  ...  4.0   \n",
       "\n",
       "            WEC  XYL  SLG  NWL  RMD  VTR  ROST  NRG  LNC  \n",
       "2021-03-17  6.0  5.0  2.0  5.0  3.0  9.0   0.0  3.0  4.0  \n",
       "2021-03-18  4.0  4.0  9.0  0.0  5.0  7.0   9.0  0.0  4.0  \n",
       "2021-03-19  2.0  8.0  9.0  2.0  5.0  9.0   1.0  5.0  3.0  \n",
       "2021-03-20  1.0  2.0  6.0  3.0  2.0  0.0   4.0  0.0  5.0  \n",
       "2021-03-21  4.0  9.0  5.0  8.0  0.0  0.0   9.0  9.0  9.0  \n",
       "\n",
       "[5 rows x 410 columns]"
      ]
     },
     "execution_count": 37,
     "metadata": {},
     "output_type": "execute_result"
    }
   ],
   "source": [
    "#Loading the data for modelling and the Yahoo stocks data\n",
    "model_data = pd.read_csv('model_data.csv', index_col = [0]).interpolate() #We use interpolation to linearly fill missing data\n",
    "yahoo_data = pd.read_csv('yahoo_data.csv', index_col = [0]).interpolate() \n",
    "model_data.head()"
   ]
  },
  {
   "cell_type": "code",
   "execution_count": 3,
   "metadata": {},
   "outputs": [
    {
     "data": {
      "image/png": "[encoded data removed]",
      "text/plain": [
       "<Figure size 432x288 with 2 Axes>"
      ]
     },
     "metadata": {
      "needs_background": "light"
     },
     "output_type": "display_data"
    }
   ],
   "source": [
    "mention_count = model_data.sum(axis = 0).sort_values(ascending = False) #Number of total mentions for each stock\n",
    "volume_traded = yahoo_data.sum(axis = 0).sort_values(ascending = False) #Amount of volume traded for each stock\n",
    "\n",
    "#Plotting the mention count and volume traded for all stocks into simple graphs\n",
    "\n",
    "fig, (ax1, ax2) = plt.subplots(2,1)\n",
    "fig.suptitle('Observing the behavior of our data')\n",
    "\n",
    "ax1.plot(mention_count)\n",
    "ax1.set_xticks(['LNC','AMAT','AMT','IFF','PYPL','VRSN','MPC','IEX','EBAY'])\n",
    "ax1.set_ylabel('Mention count')\n",
    "\n",
    "\n",
    "ax2.plot(volume_traded)\n",
    "ax2.set_xticks(['AAPL', 'NLOK', 'PGR', 'LRCX', 'ATO', 'BIO'])\n",
    "ax2.set_ylabel('Volume traded')\n",
    "\n",
    "fig.tight_layout()\n",
    "plt.show()"
   ]
  },
  {
   "cell_type": "code",
   "execution_count": 35,
   "metadata": {},
   "outputs": [
    {
     "name": "stdout",
     "output_type": "stream",
     "text": [
      "Date\n",
      "May 14, 2021         NaN\n",
      "May 13, 2021    0.294045\n",
      "May 12, 2021    0.059616\n",
      "May 11, 2021    0.124545\n",
      "May 10, 2021   -0.301814\n",
      "                  ...   \n",
      "Dec 28, 2020    0.028410\n",
      "Dec 24, 2020   -0.558745\n",
      "Dec 23, 2020    0.606108\n",
      "Dec 22, 2020    0.000000\n",
      "Dec 21, 2020    0.000000\n",
      "Name: AAPL, Length: 100, dtype: float64\n"
     ]
    }
   ],
   "source": [
    "#We want to calculate daily percentage change in volume/mentions for a specific stock.\n",
    "#However, some stocks get 0 mentions on several days, rendering the percentage change infinity on the next day.\n",
    "#We replace this value with NaN and interpolate to get a continuous graph.\n",
    "\n",
    "#Taking a look at the AAPL stock for a reference\n",
    "aapl_mtn = model_data['AAPL'].pct_change().replace(np.inf,np.nan).interpolate()\n",
    "aapl_vol = yahoo_data['AAPL'].pct_change().replace(np.inf,np.nan).interpolate()\n",
    "\n",
    "#Merge the two series only on the matching indices\n",
    "#aapl = pd.concat([aapl_mtn, aapl_vol], axis = 1, keys  = 'AAPL')\n",
    "#print(aapl)\n",
    "print(aapl_vol)\n",
    "\n",
    "#aapl_mtn.plot()\n",
    "#aapl_vol.plot()\n",
    "\n",
    "\n",
    "#plt.show()\n"
   ]
  },
  {
   "cell_type": "code",
   "execution_count": 11,
   "metadata": {
    "scrolled": true
   },
   "outputs": [
    {
     "data": {
      "text/plain": [
       "54"
      ]
     },
     "execution_count": 11,
     "metadata": {},
     "output_type": "execute_result"
    }
   ],
   "source": [
    "#Calculate the differences between days\n",
    "aapl_mtn_diff = aapl_mtn.diff()\n",
    "aapl_vol_diff = aapl_vol.diff()\n",
    "\n",
    "#Transfer the values into positive change, negative change or no change (make use of instancing)\n",
    "differences = [aapl_mtn_diff, aapl_vol_diff]\n",
    "\n",
    "for x in differences:\n",
    "    for i in range(0,len(x)):\n",
    "        if x[i] > 0:\n",
    "            x[i] = 1\n",
    "        elif x[i] < 0:\n",
    "            x[i] = -1\n",
    "        else:\n",
    "            x[i] = 0\n",
    "\n",
    "len(aapl_mtn_diff)\n",
    "#len(aapl_vol_diff)"
   ]
  },
  {
   "cell_type": "code",
   "execution_count": 105,
   "metadata": {},
   "outputs": [
    {
     "name": "stdout",
     "output_type": "stream",
     "text": [
      "[[1.         0.03849385]\n",
      " [0.03849385 1.        ]]\n"
     ]
    }
   ],
   "source": [
    "#Observe the correlation in the tendencies of the two measures (on the same day)\n",
    "test_corr = np.corrcoef(aapl_mtn_diff.iloc[0:50], aapl_vol_diff.iloc[0:50])\n",
    "print(test_corr)"
   ]
  }
 ],
 "metadata": {
  "kernelspec": {
   "display_name": "Python 3",
   "language": "python",
   "name": "python3"
  },
  "language_info": {
   "codemirror_mode": {
    "name": "ipython",
    "version": 3
   },
   "file_extension": ".py",
   "mimetype": "text/x-python",
   "name": "python",
   "nbconvert_exporter": "python",
   "pygments_lexer": "ipython3",
   "version": "3.8.5"
  }
 },
 "nbformat": 4,
 "nbformat_minor": 4
}
