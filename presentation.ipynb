{
 "cells": [
  {
   "cell_type": "code",
   "execution_count": null,
   "metadata": {
    "scrolled": true
   },
   "outputs": [],
   "source": [
    "#Can Reddit predict traded stock volume?\n",
    "#Daniel Bartušek, Petr Čala"
   ]
  },
  {
   "cell_type": "code",
   "execution_count": null,
   "metadata": {},
   "outputs": [],
   "source": [
    "#Load the necessary tools - this needs to be run only once\n",
    "from tools import Models\n",
    "M = Models.Data_Analyzer()"
   ]
  },
  {
   "cell_type": "code",
   "execution_count": null,
   "metadata": {},
   "outputs": [],
   "source": [
    "'''\n",
    "Explanation\n",
    "- Specify the desired parameters below and return the output in graphical and numerical form.\n",
    "\n",
    "Arguments\n",
    "- stock_list (list): List of stocks to be analyzed in their ticker form.\n",
    "- shift_days_by_mentions (int): Number of days by which to offset stock mentions.\n",
    "- shift_days_by_volume (int): Number of days by which to offset volume traded.\n",
    "\n",
    "Example usage\n",
    "    stock_list = ['AAPL', 'AMZN', 'AMD']\n",
    "    shift_days_by_mentions = 1\n",
    "    shift_days_by_volume = 3\n",
    "    \n",
    "Notes\n",
    "- If you wish to analyze all stocks, set 'stock_list' to 'None'.\n",
    "- As an example, setting shift of mentions to 1 and of volume to 3, the model will analyze the capability of\n",
    "    reddit to predict stock movement 2 days ahead of time. If set to 0 and 4, the capability will be analyzed\n",
    "    4 days ahead of time etc. It is also possible to track the development backwards, i.e. how well does\n",
    "    the reddit mention count reflect the stock movement xx days ago (e.g. set shifts to 3 and 0 will\n",
    "    analyze how well reddit responds to stock movement with a 3 days delay).\n",
    "'''\n",
    "\n",
    "stock_list = None #['AAPL', 'AMZN', 'AMD']\n",
    "shift_days_by_mentions = 1\n",
    "shift_days_by_volume = 3"
   ]
  },
  {
   "cell_type": "code",
   "execution_count": null,
   "metadata": {
    "scrolled": true
   },
   "outputs": [],
   "source": [
    "#Observe the outcome\n",
    "M.present_outcome(shift_days_by_mentions, shift_days_by_volume, stock_list)"
   ]
  }
 ],
 "metadata": {
  "kernelspec": {
   "display_name": "Python 3",
   "language": "python",
   "name": "python3"
  },
  "language_info": {
   "codemirror_mode": {
    "name": "ipython",
    "version": 3
   },
   "file_extension": ".py",
   "mimetype": "text/x-python",
   "name": "python",
   "nbconvert_exporter": "python",
   "pygments_lexer": "ipython3",
   "version": "3.8.5"
  }
 },
 "nbformat": 4,
 "nbformat_minor": 5
}
